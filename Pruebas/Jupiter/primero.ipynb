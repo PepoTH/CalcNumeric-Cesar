{
 "cells": [
  {
   "cell_type": "code",
   "execution_count": null,
   "id": "2e187ce5-99fd-4d93-ab80-34198789adf6",
   "metadata": {},
   "outputs": [],
   "source": []
  },
  {
   "cell_type": "raw",
   "id": "91555ea5-109a-46cb-b95b-05382d3b7c8a",
   "metadata": {},
   "source": [
    "Hola, soy yo"
   ]
  },
  {
   "cell_type": "code",
   "execution_count": null,
   "id": "6d78859e-0343-429c-904c-2ff9259586c2",
   "metadata": {},
   "outputs": [],
   "source": []
  }
 ],
 "metadata": {
  "kernelspec": {
   "display_name": "Python 3 (ipykernel)",
   "language": "python",
   "name": "python3"
  },
  "language_info": {
   "codemirror_mode": {
    "name": "ipython",
    "version": 3
   },
   "file_extension": ".py",
   "mimetype": "text/x-python",
   "name": "python",
   "nbconvert_exporter": "python",
   "pygments_lexer": "ipython3",
   "version": "3.11.7"
  }
 },
 "nbformat": 4,
 "nbformat_minor": 5
}
